{
 "cells": [
  {
   "cell_type": "code",
   "execution_count": 21,
   "metadata": {},
   "outputs": [],
   "source": [
    "import pandas as pd\n",
    "import numpy as np\n",
    "import warnings\n",
    "\n",
    "warnings.simplefilter(action='ignore', category=FutureWarning)"
   ]
  },
  {
   "attachments": {},
   "cell_type": "markdown",
   "metadata": {},
   "source": [
    "Read main dataset"
   ]
  },
  {
   "cell_type": "code",
   "execution_count": null,
   "metadata": {},
   "outputs": [],
   "source": [
    "main_dataset = pd.read_csv(r'./dataset.csv')\n",
    "\n",
    "main_dataset.replace(\":\", None, inplace=True)\n",
    "main_dataset.replace(\"-\", 0, inplace=True)\n",
    "main_dataset.replace(\"mesem i larte\", \"Mesem i larte\", inplace=True)\n",
    "main_dataset.replace(\"fillor-mesem te ulet\", \"Fillor mesem i ulet\", inplace=True)\n",
    "\n",
    "print(main_dataset.dtypes)\n",
    "print(main_dataset.describe())\n",
    "\n",
    "konsumi_dataset = pd.read_csv(r'./datasets/dataset_konsumi_i_pergjithshem.csv')"
   ]
  },
  {
   "attachments": {},
   "cell_type": "markdown",
   "metadata": {},
   "source": [
    "Process datasets, manage null values"
   ]
  },
  {
   "cell_type": "code",
   "execution_count": 59,
   "metadata": {},
   "outputs": [],
   "source": [
    "main_dataset[\"Viti Akademik\"] = main_dataset[\"Viti Akademik\"].str.split(\"-\").str[0]\n",
    "\n",
    "main_dataset_fill = main_dataset.sort_values(by=['Komuna', 'Viti Akademik'])\n",
    "\n",
    "main_dataset_fill['Numri i nxenesve'] = main_dataset_fill.groupby('Komuna')['Numri i nxenesve'].transform(lambda x: x.fillna(method='ffill').fillna(method='bfill'))"
   ]
  },
  {
   "cell_type": "code",
   "execution_count": 60,
   "metadata": {},
   "outputs": [],
   "source": [
    "konsumi_dataset.replace(\":\", None, inplace=True)\n",
    "\n",
    "konsumi_dataset[\"Konsumi i përgjithshëm në Kosovë\"] = pd.to_numeric(konsumi_dataset[\"Konsumi i përgjithshëm në Kosovë\"], errors=\"coerce\")\n",
    "\n",
    "konsumi_dataset[\"Viti\"] = konsumi_dataset[\"Viti\"].astype(int)\n",
    "konsumi_dataset.sort_values(by=[\"Variabla\", \"Viti\"], inplace=True)\n",
    "\n",
    "konsumi_dataset[\"Konsumi i përgjithshëm në Kosovë\"] = konsumi_dataset.groupby(\"Variabla\")[\"Konsumi i përgjithshëm në Kosovë\"].transform(lambda group: group.interpolate(method=\"linear\"))\n",
    "\n",
    "konsumi_dataset.to_csv(\"cleaned_data.csv\", index=False)"
   ]
  },
  {
   "cell_type": "code",
   "execution_count": 25,
   "metadata": {},
   "outputs": [],
   "source": [
    "main_dataset_fill.to_csv('cleaned_data.csv', index=False)"
   ]
  }
 ],
 "metadata": {
  "kernelspec": {
   "display_name": "Python 3",
   "language": "python",
   "name": "python3"
  },
  "language_info": {
   "codemirror_mode": {
    "name": "ipython",
    "version": 3
   },
   "file_extension": ".py",
   "mimetype": "text/x-python",
   "name": "python",
   "nbconvert_exporter": "python",
   "pygments_lexer": "ipython3",
   "version": "3.11.6"
  },
  "orig_nbformat": 4
 },
 "nbformat": 4,
 "nbformat_minor": 2
}

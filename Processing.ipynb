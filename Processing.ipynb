{
 "cells": [
  {
   "cell_type": "code",
   "execution_count": null,
   "metadata": {},
   "outputs": [],
   "source": [
    "import pandas as pd\n",
    "import numpy as np\n",
    "import warnings\n",
    "\n",
    "warnings.simplefilter(action='ignore', category=FutureWarning)"
   ]
  },
  {
   "attachments": {},
   "cell_type": "markdown",
   "metadata": {},
   "source": [
    "Read and rename main fields on main dataset"
   ]
  },
  {
   "cell_type": "code",
   "execution_count": null,
   "metadata": {},
   "outputs": [],
   "source": [
    "main_dataset = pd.read_csv(r'./dataset.csv')\n",
    "\n",
    "main_dataset.replace(\":\", None, inplace=True)\n",
    "main_dataset.replace(\"-\", 0, inplace=True)\n",
    "main_dataset.replace(\"mesem i larte\", \"Mesem i larte\", inplace=True)\n",
    "main_dataset.replace(\"fillor-mesem te ulet\", \"Fillor mesem i ulet\", inplace=True)\n",
    "\n",
    "print(main_dataset.dtypes)\n",
    "print(main_dataset.describe())\n",
    "\n"
   ]
  },
  {
   "attachments": {},
   "cell_type": "markdown",
   "metadata": {},
   "source": [
    "Process datasets, manage null values"
   ]
  },
  {
   "cell_type": "code",
   "execution_count": null,
   "metadata": {},
   "outputs": [],
   "source": [
    "main_dataset[\"Viti Akademik\"] = main_dataset[\"Viti Akademik\"].str.split(\"-\").str[0]\n",
    "\n",
    "main_dataset_fill = main_dataset.sort_values(by=['Komuna', 'Viti Akademik'])\n",
    "\n",
    "main_dataset_fill['Numri i nxenesve'] = main_dataset_fill.groupby('Komuna')['Numri i nxenesve'].transform(lambda x: x.fillna(method='ffill').fillna(method='bfill'))\n",
    "main_dataset_fill.to_csv('cleaned_dataset.csv', index=False)"
   ]
  },
  {
   "cell_type": "code",
   "execution_count": null,
   "metadata": {},
   "outputs": [],
   "source": [
    "konsumi_dataset = pd.read_csv(r'./datasets/dataset_konsumi_i_pergjithshem.csv')\n",
    "konsumi_dataset.replace(\":\", None, inplace=True)\n",
    "\n",
    "konsumi_dataset[\"Konsumi i përgjithshëm në Kosovë\"] = pd.to_numeric(konsumi_dataset[\"Konsumi i përgjithshëm në Kosovë\"], errors=\"coerce\")\n",
    "\n",
    "konsumi_dataset[\"Viti\"] = konsumi_dataset[\"Viti\"].astype(int)\n",
    "konsumi_dataset.sort_values(by=[\"Variabla\", \"Viti\"], inplace=True)\n",
    "\n",
    "konsumi_dataset[\"Konsumi i përgjithshëm në Kosovë\"] = konsumi_dataset.groupby(\"Variabla\")[\"Konsumi i përgjithshëm në Kosovë\"].transform(lambda group: group.interpolate(method=\"linear\")).round(0).astype(int)\n",
    "\n",
    "konsumi_dataset.to_csv(\"./cleaned_datasets/dataset_konsumi_i_pergjithshem.csv\", index=False)"
   ]
  },
  {
   "cell_type": "code",
   "execution_count": null,
   "metadata": {},
   "outputs": [],
   "source": [
    "lindjet_vdekjet_df = pd.read_csv(r'./datasets/dataset_lindjet_vdekjet.csv')\n",
    "lindjet_vdekjet_df.replace(\":\", None, inplace=True)\n",
    "\n",
    "lindjet_vdekjet_df[\"Lindjet dhe vdekjet\"] = pd.to_numeric(lindjet_vdekjet_df[\"Lindjet dhe vdekjet\"], errors=\"coerce\")\n",
    "\n",
    "lindjet_vdekjet_df[\"Viti\"] = lindjet_vdekjet_df[\"Viti\"].astype(int)\n",
    "lindjet_vdekjet_df.sort_values(by=[\"Variablat\", \"Viti\"], inplace=True)\n",
    "\n",
    "lindjet_vdekjet_df[\"Lindjet dhe vdekjet\"] = lindjet_vdekjet_df.groupby(\"Variablat\")[\"Lindjet dhe vdekjet\"].transform(lambda group: group.interpolate(method=\"linear\")).round(0).astype(int)\n",
    "\n",
    "lindjet_vdekjet_df.to_csv(\"./cleaned_datasets/dataset_lindjet_vdekjet.csv\", index=False)"
   ]
  },
  {
   "cell_type": "code",
   "execution_count": null,
   "metadata": {},
   "outputs": [],
   "source": [
    "nxenes_staf_df = pd.read_csv(r'./datasets/dataset_raportet_nxenes_staf.csv')\n",
    "nxenes_staf_df.rename(columns={'Treguesit e arsimit sipas niveleve në arsimin publik':'vlera'}, inplace=True)\n",
    "nxenes_staf_df.replace(\":\", None, inplace=True)\n",
    "nxenes_staf_df.replace(\"-\", None, inplace=True)\n",
    "\n",
    "nxenes_staf_df[\"viti\"] = nxenes_staf_df[\"viti\"].str.split(\"/\").str[0]\n",
    "\n",
    "nxenes_staf_df[\"vlera\"] = pd.to_numeric(nxenes_staf_df[\"vlera\"], errors=\"coerce\")\n",
    "\n",
    "nxenes_staf_df.sort_values(by=[\"niveli i arsimit\", \"viti\"], inplace=True)\n",
    "\n",
    "nxenes_staf_df[\"vlera\"] = nxenes_staf_df.groupby(\"treguesi\")[\"vlera\"].transform(lambda group: group.interpolate(method=\"linear\")).round(1)\n",
    "\n",
    "nxenes_staf_df.to_csv(\"./cleaned_datasets/dataset_raportet_nxenes_staf.csv\", index=False)"
   ]
  }
 ],
 "metadata": {
  "kernelspec": {
   "display_name": "Python 3",
   "language": "python",
   "name": "python3"
  },
  "language_info": {
   "codemirror_mode": {
    "name": "ipython",
    "version": 3
   },
   "file_extension": ".py",
   "mimetype": "text/x-python",
   "name": "python",
   "nbconvert_exporter": "python",
   "pygments_lexer": "ipython3",
   "version": "3.11.6"
  },
  "orig_nbformat": 4
 },
 "nbformat": 4,
 "nbformat_minor": 2
}
